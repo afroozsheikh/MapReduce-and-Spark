{
 "cells": [
  {
   "cell_type": "code",
   "execution_count": 76,
   "id": "b14f0367",
   "metadata": {},
   "outputs": [],
   "source": [
    "from pyspark.sql import functions as sqlfunctions\n",
    "from graphframes import GraphFrame\n",
    "from graphframes import *\n",
    "import networkx as nx\n",
    "import matplotlib.pyplot as plt\n",
    "from graphframes.examples import Graphs\n",
    "\n",
    "\n",
    "from pyspark.sql.functions import sum as sqlsum\n",
    "from graphframes.lib import AggregateMessages as AM"
   ]
  },
  {
   "cell_type": "markdown",
   "id": "d23497f8",
   "metadata": {},
   "source": [
    "# Creating Graphframes"
   ]
  },
  {
   "cell_type": "code",
   "execution_count": 42,
   "id": "8da02a69",
   "metadata": {},
   "outputs": [],
   "source": [
    "spark = SparkSession.builder.appName('fun').getOrCreate()\n",
    "\n",
    "vertices = spark.createDataFrame([('1', 'Carter', 'Derrick', 50), \n",
    "                                  ('2', 'May', 'Derrick', 26),\n",
    "                                 ('3', 'Mills', 'Jeff', 80),\n",
    "                                  ('4', 'Hood', 'Robert', 65),\n",
    "                                  ('5', 'Banks', 'Mike', 93),\n",
    "                                 ('98', 'Berg', 'Tim', 28),\n",
    "                                 ('99', 'Page', 'Allan', 16)],\n",
    "                                 ['id', 'name', 'firstname', 'age'])\n",
    "edges = spark.createDataFrame([('1', '2', 'friend'), \n",
    "                               ('2', '1', 'friend'),\n",
    "                              ('3', '1', 'friend'),\n",
    "                              ('1', '3', 'friend'),\n",
    "                               ('2', '3', 'follows'),\n",
    "                               ('3', '4', 'friend'),\n",
    "                               ('4', '3', 'friend'),\n",
    "                               ('5', '3', 'friend'),\n",
    "                               ('3', '5', 'friend'),\n",
    "                               ('4', '5', 'follows'),\n",
    "                              ('98', '99', 'friend'),\n",
    "                              ('99', '98', 'friend')],\n",
    "                              ['src', 'dst', 'type'])\n",
    "g = GraphFrame(vertices, edges)"
   ]
  },
  {
   "cell_type": "code",
   "execution_count": 38,
   "id": "181e41bc",
   "metadata": {},
   "outputs": [],
   "source": [
    "## Plot the graph\n",
    "def PlotGraph(edge_list):\n",
    "    Gplot=nx.DiGraph()\n",
    "    for row in edge_list.select('src','dst').take(1000):\n",
    "        Gplot.add_edge(row['src'],row['dst'])\n",
    "\n",
    "#     plt.subplot(121)\n",
    "    nx.draw(Gplot, with_labels=True, font_weight='bold')"
   ]
  },
  {
   "cell_type": "code",
   "execution_count": 39,
   "id": "a4f2e7a0",
   "metadata": {},
   "outputs": [
    {
     "data": {
      "image/png": "[encoded data removed]",
      "text/plain": [
       "<Figure size 432x288 with 1 Axes>"
      ]
     },
     "metadata": {},
     "output_type": "display_data"
    }
   ],
   "source": [
    "PlotGraph(g.edges)"
   ]
  },
  {
   "cell_type": "markdown",
   "id": "ed1bb7fc",
   "metadata": {},
   "source": [
    "# Basic Queries"
   ]
  },
  {
   "cell_type": "code",
   "execution_count": 24,
   "id": "f2d22de2",
   "metadata": {},
   "outputs": [
    {
     "data": {
      "text/plain": [
       "DataFrame[id: string, name: string, firstname: string, age: bigint]"
      ]
     },
     "execution_count": 24,
     "metadata": {},
     "output_type": "execute_result"
    }
   ],
   "source": [
    "g.vertices"
   ]
  },
  {
   "cell_type": "code",
   "execution_count": 4,
   "id": "604b39a4",
   "metadata": {},
   "outputs": [
    {
     "name": "stdout",
     "output_type": "stream",
     "text": [
      "+---+------+---------+---+\n",
      "| id|  name|firstname|age|\n",
      "+---+------+---------+---+\n",
      "|  1|Carter|  Derrick| 50|\n",
      "|  2|   May|  Derrick| 26|\n",
      "|  3| Mills|     Jeff| 80|\n",
      "|  4|  Hood|   Robert| 65|\n",
      "|  5| Banks|     Mike| 93|\n",
      "| 98|  Berg|      Tim| 28|\n",
      "| 99|  Page|    Allan| 16|\n",
      "+---+------+---------+---+\n",
      "\n"
     ]
    }
   ],
   "source": [
    "g.vertices.show()"
   ]
  },
  {
   "cell_type": "code",
   "execution_count": 5,
   "id": "856a11d7",
   "metadata": {},
   "outputs": [
    {
     "name": "stdout",
     "output_type": "stream",
     "text": [
      "+---+---+-------+\n",
      "|src|dst|   type|\n",
      "+---+---+-------+\n",
      "|  1|  2| friend|\n",
      "|  2|  1| friend|\n",
      "|  3|  1| friend|\n",
      "|  1|  3| friend|\n",
      "|  2|  3|follows|\n",
      "|  3|  4| friend|\n",
      "|  4|  3| friend|\n",
      "|  5|  3| friend|\n",
      "|  3|  5| friend|\n",
      "|  4|  5|follows|\n",
      "| 98| 99| friend|\n",
      "| 99| 98| friend|\n",
      "+---+---+-------+\n",
      "\n"
     ]
    }
   ],
   "source": [
    "g.edges.show()"
   ]
  },
  {
   "cell_type": "code",
   "execution_count": 19,
   "id": "5c35b9f5",
   "metadata": {},
   "outputs": [
    {
     "name": "stdout",
     "output_type": "stream",
     "text": [
      "+---+--------+\n",
      "| id|inDegree|\n",
      "+---+--------+\n",
      "|  2|       1|\n",
      "|  1|       2|\n",
      "|  3|       4|\n",
      "|  4|       1|\n",
      "|  5|       2|\n",
      "| 98|       1|\n",
      "| 99|       1|\n",
      "+---+--------+\n",
      "\n"
     ]
    }
   ],
   "source": [
    "# Get a DataFrame with columns \"id\" and \"inDegree\" (in-degree)\n",
    "vertexInDegrees = g.inDegrees\n",
    "vertexInDegrees.show()"
   ]
  },
  {
   "cell_type": "code",
   "execution_count": 6,
   "id": "00c8b6d6",
   "metadata": {},
   "outputs": [
    {
     "name": "stderr",
     "output_type": "stream",
     "text": [
      "C:\\Spark\\spark\\python\\pyspark\\sql\\dataframe.py:127: UserWarning: DataFrame constructor is internal. Do not directly use it.\n",
      "  warnings.warn(\"DataFrame constructor is internal. Do not directly use it.\")\n"
     ]
    },
    {
     "name": "stdout",
     "output_type": "stream",
     "text": [
      "+---+------+\n",
      "| id|degree|\n",
      "+---+------+\n",
      "|  1|     4|\n",
      "|  2|     3|\n",
      "|  3|     7|\n",
      "|  4|     3|\n",
      "|  5|     3|\n",
      "| 98|     2|\n",
      "| 99|     2|\n",
      "+---+------+\n",
      "\n"
     ]
    }
   ],
   "source": [
    "## Check the number of edges of each vertex\n",
    "g.degrees.show()"
   ]
  },
  {
   "cell_type": "code",
   "execution_count": 20,
   "id": "3a937446",
   "metadata": {},
   "outputs": [
    {
     "name": "stdout",
     "output_type": "stream",
     "text": [
      "+--------+\n",
      "|min(age)|\n",
      "+--------+\n",
      "|      16|\n",
      "+--------+\n",
      "\n"
     ]
    }
   ],
   "source": [
    "# Find the youngest user's age in the graph.\n",
    "# This queries the vertex DataFrame.\n",
    "g.vertices.groupBy().min(\"age\").show()"
   ]
  },
  {
   "cell_type": "markdown",
   "id": "72ed772b",
   "metadata": {},
   "source": [
    "## Filtering"
   ]
  },
  {
   "cell_type": "code",
   "execution_count": 28,
   "id": "fcc7bc71",
   "metadata": {},
   "outputs": [
    {
     "data": {
      "text/plain": [
       "2"
      ]
     },
     "execution_count": 28,
     "metadata": {},
     "output_type": "execute_result"
    }
   ],
   "source": [
    "numFollows = g.edges.filter(\"type = 'follows'\").count()\n",
    "numFollows"
   ]
  },
  {
   "cell_type": "code",
   "execution_count": 44,
   "id": "eccdc65d",
   "metadata": {},
   "outputs": [
    {
     "name": "stdout",
     "output_type": "stream",
     "text": [
      "+---+------+---------+---+\n",
      "| id|  name|firstname|age|\n",
      "+---+------+---------+---+\n",
      "|  1|Carter|  Derrick| 50|\n",
      "|  3| Mills|     Jeff| 80|\n",
      "|  4|  Hood|   Robert| 65|\n",
      "|  5| Banks|     Mike| 93|\n",
      "+---+------+---------+---+\n",
      "\n"
     ]
    }
   ],
   "source": [
    "g.vertices.filter(\"age > 30\").show()"
   ]
  },
  {
   "cell_type": "code",
   "execution_count": 45,
   "id": "52f3a1cf",
   "metadata": {},
   "outputs": [
    {
     "name": "stdout",
     "output_type": "stream",
     "text": [
      "+---+--------+\n",
      "| id|inDegree|\n",
      "+---+--------+\n",
      "|  3|       4|\n",
      "|  1|       2|\n",
      "|  5|       2|\n",
      "+---+--------+\n",
      "\n"
     ]
    }
   ],
   "source": [
    "g.inDegrees.filter(\"inDegree >= 2\").sort(\"inDegree\", ascending=False).show()"
   ]
  },
  {
   "cell_type": "code",
   "execution_count": 47,
   "id": "2eb5ed68",
   "metadata": {},
   "outputs": [
    {
     "name": "stdout",
     "output_type": "stream",
     "text": [
      "+---+---+------+\n",
      "|src|dst|  type|\n",
      "+---+---+------+\n",
      "|  1|  2|friend|\n",
      "|  2|  1|friend|\n",
      "|  3|  1|friend|\n",
      "|  1|  3|friend|\n",
      "|  3|  4|friend|\n",
      "|  4|  3|friend|\n",
      "|  5|  3|friend|\n",
      "|  3|  5|friend|\n",
      "| 98| 99|friend|\n",
      "| 99| 98|friend|\n",
      "+---+---+------+\n",
      "\n"
     ]
    }
   ],
   "source": [
    "g.edges.filter('type == \"friend\"').show()"
   ]
  },
  {
   "cell_type": "markdown",
   "id": "74c79b61",
   "metadata": {},
   "source": [
    "# Motif Finding"
   ]
  },
  {
   "cell_type": "markdown",
   "id": "96ca64d4",
   "metadata": {},
   "source": [
    "Motif finding refers to searching for structural patterns in a graph. \n",
    "GraphFrame motif finding uses a simple Domain-Specific Language (DSL) for expressing structural queries. For example, graph.find(\"(a)-[e]->(b); (b)-[e2]->(a)\") will search for pairs of vertices a,b connected by edges in both directions. It will return a DataFrame of all such structures in the graph, with columns for each of the named elements (vertices or edges) in the motif. In this case, the returned columns will be “a, b, e, e2.”"
   ]
  },
  {
   "cell_type": "markdown",
   "id": "b3cdce45",
   "metadata": {},
   "source": [
    "USAGE: Finding motifs helps to execute queries to discover structural patterns in graphs. Network motifs are patterns that occur repeatedly in the graph and represent the relationships between the vertices"
   ]
  },
  {
   "cell_type": "code",
   "execution_count": 51,
   "id": "31a6fa9e",
   "metadata": {},
   "outputs": [
    {
     "name": "stdout",
     "output_type": "stream",
     "text": [
      "+--------------------+----------------+--------------------+----------------+\n",
      "|                   a|               e|                   b|              e2|\n",
      "+--------------------+----------------+--------------------+----------------+\n",
      "|{2, May, Derrick,...|  {2, 1, friend}|{1, Carter, Derri...|  {1, 2, friend}|\n",
      "|{3, Mills, Jeff, 80}|  {3, 1, friend}|{1, Carter, Derri...|  {1, 3, friend}|\n",
      "|{1, Carter, Derri...|  {1, 2, friend}|{2, May, Derrick,...|  {2, 1, friend}|\n",
      "|{1, Carter, Derri...|  {1, 3, friend}|{3, Mills, Jeff, 80}|  {3, 1, friend}|\n",
      "|{4, Hood, Robert,...|  {4, 3, friend}|{3, Mills, Jeff, 80}|  {3, 4, friend}|\n",
      "|{5, Banks, Mike, 93}|  {5, 3, friend}|{3, Mills, Jeff, 80}|  {3, 5, friend}|\n",
      "|{3, Mills, Jeff, 80}|  {3, 4, friend}|{4, Hood, Robert,...|  {4, 3, friend}|\n",
      "|{3, Mills, Jeff, 80}|  {3, 5, friend}|{5, Banks, Mike, 93}|  {5, 3, friend}|\n",
      "|{99, Page, Allan,...|{99, 98, friend}| {98, Berg, Tim, 28}|{98, 99, friend}|\n",
      "| {98, Berg, Tim, 28}|{98, 99, friend}|{99, Page, Allan,...|{99, 98, friend}|\n",
      "+--------------------+----------------+--------------------+----------------+\n",
      "\n"
     ]
    }
   ],
   "source": [
    "motifs = g.find(\"(a)-[e]->(b); (b)-[e2]->(a)\")\n",
    "motifs.show()\n",
    "\n"
   ]
  },
  {
   "cell_type": "code",
   "execution_count": 54,
   "id": "92fbd921",
   "metadata": {},
   "outputs": [
    {
     "name": "stdout",
     "output_type": "stream",
     "text": [
      "+--------------------+--------------+--------------------+--------------+\n",
      "|                   a|             e|                   b|            e2|\n",
      "+--------------------+--------------+--------------------+--------------+\n",
      "|{2, May, Derrick,...|{2, 1, friend}|{1, Carter, Derri...|{1, 2, friend}|\n",
      "|{3, Mills, Jeff, 80}|{3, 1, friend}|{1, Carter, Derri...|{1, 3, friend}|\n",
      "|{1, Carter, Derri...|{1, 3, friend}|{3, Mills, Jeff, 80}|{3, 1, friend}|\n",
      "|{4, Hood, Robert,...|{4, 3, friend}|{3, Mills, Jeff, 80}|{3, 4, friend}|\n",
      "|{5, Banks, Mike, 93}|{5, 3, friend}|{3, Mills, Jeff, 80}|{3, 5, friend}|\n",
      "|{3, Mills, Jeff, 80}|{3, 4, friend}|{4, Hood, Robert,...|{4, 3, friend}|\n",
      "|{3, Mills, Jeff, 80}|{3, 5, friend}|{5, Banks, Mike, 93}|{5, 3, friend}|\n",
      "+--------------------+--------------+--------------------+--------------+\n",
      "\n"
     ]
    }
   ],
   "source": [
    "# More complex queries can be expressed by applying filters.\n",
    "motifs.filter(\"b.age > 30\").show()"
   ]
  },
  {
   "cell_type": "markdown",
   "id": "0df1d48e",
   "metadata": {},
   "source": [
    "##  find the mutual friends for any pair of users a and c"
   ]
  },
  {
   "cell_type": "code",
   "execution_count": 52,
   "id": "608614bb",
   "metadata": {},
   "outputs": [],
   "source": [
    "mutualFriends = g.find(\"(a)-[]->(b); (b)-[]->(c); (c)-[]->(b); (b)-[]->(a)\")\\\n",
    ".dropDuplicates()"
   ]
  },
  {
   "cell_type": "code",
   "execution_count": 53,
   "id": "fa3144f4",
   "metadata": {},
   "outputs": [
    {
     "name": "stdout",
     "output_type": "stream",
     "text": [
      "+--------------------+--------------------+--------------------+\n",
      "|                   a|                   b|                   c|\n",
      "+--------------------+--------------------+--------------------+\n",
      "|{2, May, Derrick,...|{1, Carter, Derri...|{3, Mills, Jeff, 80}|\n",
      "+--------------------+--------------------+--------------------+\n",
      "\n"
     ]
    }
   ],
   "source": [
    "mutualFriends.filter('a.id == 2 and c.id == 3').show()"
   ]
  },
  {
   "cell_type": "markdown",
   "id": "dd4939c0",
   "metadata": {},
   "source": [
    "# Subgraphs"
   ]
  },
  {
   "cell_type": "markdown",
   "id": "052a6a58",
   "metadata": {},
   "source": [
    "In GraphX, the subgraph() method takes an edge triplet (edge, src vertex, and dst vertex, plus attributes) and allows the user to select a subgraph based on triplet and vertex filters."
   ]
  },
  {
   "cell_type": "code",
   "execution_count": 57,
   "id": "ed7b01d6",
   "metadata": {},
   "outputs": [
    {
     "data": {
      "image/png": "[encoded data removed]",
      "text/plain": [
       "<Figure size 432x288 with 1 Axes>"
      ]
     },
     "metadata": {},
     "output_type": "display_data"
    }
   ],
   "source": [
    "g1 = g.filterVertices(\"age > 30\").filterEdges(\"type = 'friend'\").dropIsolatedVertices()\n",
    "PlotGraph(g1.edges)"
   ]
  },
  {
   "cell_type": "markdown",
   "id": "9557b120",
   "metadata": {},
   "source": [
    "# Graph Algorithms"
   ]
  },
  {
   "cell_type": "markdown",
   "id": "e2c287c3",
   "metadata": {},
   "source": [
    "## Breadth First Search (BFS)"
   ]
  },
  {
   "cell_type": "code",
   "execution_count": 58,
   "id": "adbfcbad",
   "metadata": {},
   "outputs": [
    {
     "name": "stdout",
     "output_type": "stream",
     "text": [
      "+--------------------+--------------+--------------------+--------------+--------------------+\n",
      "|                from|            e0|                  v1|            e1|                  to|\n",
      "+--------------------+--------------+--------------------+--------------+--------------------+\n",
      "|{3, Mills, Jeff, 80}|{3, 1, friend}|{1, Carter, Derri...|{1, 2, friend}|{2, May, Derrick,...|\n",
      "+--------------------+--------------+--------------------+--------------+--------------------+\n",
      "\n"
     ]
    }
   ],
   "source": [
    "# Search from \"Mills\" for users of age < 32.\n",
    "paths = g.bfs(\"name = 'Mills'\", \"age < 32\")\n",
    "paths.show()\n"
   ]
  },
  {
   "cell_type": "code",
   "execution_count": 60,
   "id": "b9999e3d",
   "metadata": {},
   "outputs": [
    {
     "name": "stdout",
     "output_type": "stream",
     "text": [
      "+---+----+---------+---+\n",
      "| id|name|firstname|age|\n",
      "+---+----+---------+---+\n",
      "+---+----+---------+---+\n",
      "\n"
     ]
    }
   ],
   "source": [
    "# Specify edge filters or max path lengths.\n",
    "g.bfs(\"name = 'Esther'\", \"age < 32\",\\\n",
    "  edgeFilter=\"relationship != 'friend'\", maxPathLength=3).show()"
   ]
  },
  {
   "cell_type": "markdown",
   "id": "3aa921fb",
   "metadata": {},
   "source": [
    "## Connected components of the graph"
   ]
  },
  {
   "cell_type": "markdown",
   "id": "1a3d3d68",
   "metadata": {},
   "source": [
    "Connected components detection can be interesting for clustering, but also to make your computations more efficient."
   ]
  },
  {
   "cell_type": "code",
   "execution_count": 49,
   "id": "3e35722f",
   "metadata": {},
   "outputs": [],
   "source": [
    "# set the checkpoint directory.\n",
    "sc.setCheckpointDir('graphframes_cps')"
   ]
  },
  {
   "cell_type": "code",
   "execution_count": 50,
   "id": "c5927996",
   "metadata": {},
   "outputs": [
    {
     "name": "stdout",
     "output_type": "stream",
     "text": [
      "+---+------+---------+---+------------+\n",
      "| id|  name|firstname|age|   component|\n",
      "+---+------+---------+---+------------+\n",
      "|  1|Carter|  Derrick| 50|154618822656|\n",
      "|  2|   May|  Derrick| 26|154618822656|\n",
      "|  3| Mills|     Jeff| 80|154618822656|\n",
      "|  4|  Hood|   Robert| 65|154618822656|\n",
      "|  5| Banks|     Mike| 93|154618822656|\n",
      "| 98|  Berg|      Tim| 28|317827579904|\n",
      "| 99|  Page|    Allan| 16|317827579904|\n",
      "+---+------+---------+---+------------+\n",
      "\n"
     ]
    }
   ],
   "source": [
    "g.connectedComponents().show()"
   ]
  },
  {
   "cell_type": "markdown",
   "id": "d8b03463",
   "metadata": {},
   "source": [
    "## Triangle Count"
   ]
  },
  {
   "cell_type": "code",
   "execution_count": 61,
   "id": "75f153b8",
   "metadata": {},
   "outputs": [
    {
     "name": "stdout",
     "output_type": "stream",
     "text": [
      "+-----+---+------+---------+---+\n",
      "|count| id|  name|firstname|age|\n",
      "+-----+---+------+---------+---+\n",
      "|    1|  1|Carter|  Derrick| 50|\n",
      "|    1|  2|   May|  Derrick| 26|\n",
      "|    2|  3| Mills|     Jeff| 80|\n",
      "|    1|  4|  Hood|   Robert| 65|\n",
      "|    1|  5| Banks|     Mike| 93|\n",
      "|    0| 98|  Berg|      Tim| 28|\n",
      "|    0| 99|  Page|    Allan| 16|\n",
      "+-----+---+------+---------+---+\n",
      "\n"
     ]
    }
   ],
   "source": [
    "g.triangleCount().show()"
   ]
  },
  {
   "cell_type": "markdown",
   "id": "3047bd01",
   "metadata": {},
   "source": [
    "## Shortest paths\n"
   ]
  },
  {
   "cell_type": "code",
   "execution_count": 68,
   "id": "87eb43cf",
   "metadata": {},
   "outputs": [],
   "source": [
    "results = g.shortestPaths(landmarks=[\"1\", \"3\"])"
   ]
  },
  {
   "cell_type": "code",
   "execution_count": 69,
   "id": "6518d01b",
   "metadata": {},
   "outputs": [
    {
     "name": "stdout",
     "output_type": "stream",
     "text": [
      "+---+------+---------+---+----------------+\n",
      "| id|  name|firstname|age|       distances|\n",
      "+---+------+---------+---+----------------+\n",
      "|  3| Mills|     Jeff| 80|{1 -> 1, 3 -> 0}|\n",
      "| 98|  Berg|      Tim| 28|              {}|\n",
      "| 99|  Page|    Allan| 16|              {}|\n",
      "|  5| Banks|     Mike| 93|{1 -> 2, 3 -> 1}|\n",
      "|  1|Carter|  Derrick| 50|{1 -> 0, 3 -> 1}|\n",
      "|  4|  Hood|   Robert| 65|{1 -> 2, 3 -> 1}|\n",
      "|  2|   May|  Derrick| 26|{1 -> 1, 3 -> 1}|\n",
      "+---+------+---------+---+----------------+\n",
      "\n"
     ]
    }
   ],
   "source": [
    "results.show()"
   ]
  },
  {
   "cell_type": "markdown",
   "id": "ca2ec852",
   "metadata": {},
   "source": [
    "## PageRank"
   ]
  },
  {
   "cell_type": "code",
   "execution_count": 70,
   "id": "1f647d7e",
   "metadata": {},
   "outputs": [
    {
     "name": "stdout",
     "output_type": "stream",
     "text": [
      "+---+------------------+\n",
      "| id|          pagerank|\n",
      "+---+------------------+\n",
      "|  3|1.8872102677908136|\n",
      "| 98|1.0000000000000002|\n",
      "| 99|1.0000000000000002|\n",
      "|  5|0.9758414453949464|\n",
      "|  1|0.9144332361140216|\n",
      "|  4| 0.685007724175069|\n",
      "|  2|0.5375073265251489|\n",
      "+---+------------------+\n",
      "\n"
     ]
    }
   ],
   "source": [
    "pagerank = g.pageRank(resetProbability=0.15, maxIter=10)\n",
    "pagerank.vertices.select(\"id\", \"pagerank\").show()\n"
   ]
  },
  {
   "cell_type": "code",
   "execution_count": 71,
   "id": "dc689b4d",
   "metadata": {},
   "outputs": [
    {
     "name": "stdout",
     "output_type": "stream",
     "text": [
      "+---+---+------------------+\n",
      "|src|dst|            weight|\n",
      "+---+---+------------------+\n",
      "|  3|  5|0.3333333333333333|\n",
      "|  3|  1|0.3333333333333333|\n",
      "|  3|  4|0.3333333333333333|\n",
      "| 98| 99|               1.0|\n",
      "| 99| 98|               1.0|\n",
      "|  5|  3|               1.0|\n",
      "|  1|  3|               0.5|\n",
      "|  1|  2|               0.5|\n",
      "|  4|  3|               0.5|\n",
      "|  4|  5|               0.5|\n",
      "|  2|  3|               0.5|\n",
      "|  2|  1|               0.5|\n",
      "+---+---+------------------+\n",
      "\n"
     ]
    }
   ],
   "source": [
    "pagerank.edges.select(\"src\", \"dst\", \"weight\").show()"
   ]
  },
  {
   "cell_type": "markdown",
   "id": "63094782",
   "metadata": {},
   "source": [
    "Run PageRank personalized for vertex \"1\""
   ]
  },
  {
   "cell_type": "code",
   "execution_count": 72,
   "id": "e82f508d",
   "metadata": {},
   "outputs": [
    {
     "name": "stdout",
     "output_type": "stream",
     "text": [
      "+---+------+---------+---+-------------------+\n",
      "| id|  name|firstname|age|           pagerank|\n",
      "+---+------+---------+---+-------------------+\n",
      "|  3| Mills|     Jeff| 80|0.33891806394017526|\n",
      "| 98|  Berg|      Tim| 28|                0.0|\n",
      "| 99|  Page|    Allan| 16|                0.0|\n",
      "|  5| Banks|     Mike| 93|0.13689847609530284|\n",
      "|  1|Carter|  Derrick| 50|0.30079283470815427|\n",
      "|  4|  Hood|   Robert| 65|0.09616868544059574|\n",
      "|  2|   May|  Derrick| 26| 0.1272219398157718|\n",
      "+---+------+---------+---+-------------------+\n",
      "\n"
     ]
    }
   ],
   "source": [
    "pagerank2 = g.pageRank(resetProbability=0.15, maxIter=10, sourceId=\"1\")\n",
    "pagerank2.vertices.show()"
   ]
  },
  {
   "cell_type": "markdown",
   "id": "9e6118a9",
   "metadata": {},
   "source": [
    "# Message passing via AggregateMessages\n"
   ]
  },
  {
   "cell_type": "markdown",
   "id": "36bb2972",
   "metadata": {},
   "source": [
    "Like GraphX, GraphFrames provides primitives for developing graph algorithms. The two key components are:\n",
    "\n",
    "* aggregateMessages: Send messages between vertices, and aggregate messages for each vertex. GraphFrames provides a native aggregateMessages method implemented using DataFrame operations. This may be used analogously to the GraphX API.\n",
    "* joins: Join message aggregates with the original graph. GraphFrames rely on DataFrame joins, which provide the full functionality of GraphX joins."
   ]
  },
  {
   "cell_type": "code",
   "execution_count": 77,
   "id": "922d6680",
   "metadata": {},
   "outputs": [
    {
     "name": "stdout",
     "output_type": "stream",
     "text": [
      "+---+----------+\n",
      "| id|summedAges|\n",
      "+---+----------+\n",
      "|  3|       442|\n",
      "| 98|        32|\n",
      "| 99|        56|\n",
      "|  5|       225|\n",
      "|  1|       212|\n",
      "|  4|       253|\n",
      "|  2|       180|\n",
      "+---+----------+\n",
      "\n"
     ]
    }
   ],
   "source": [
    "# For each user, sum the ages of the adjacent users.\n",
    "msgToSrc = AM.dst[\"age\"]\n",
    "msgToDst = AM.src[\"age\"]\n",
    "agg = g.aggregateMessages(\n",
    "    sqlsum(AM.msg).alias(\"summedAges\"),\n",
    "    sendToSrc=msgToSrc,\n",
    "    sendToDst=msgToDst)\n",
    "agg.show()"
   ]
  },
  {
   "cell_type": "code",
   "execution_count": null,
   "id": "61c5e308",
   "metadata": {},
   "outputs": [],
   "source": []
  }
 ],
 "metadata": {
  "kernelspec": {
   "display_name": "Python 3 (ipykernel)",
   "language": "python",
   "name": "python3"
  },
  "language_info": {
   "codemirror_mode": {
    "name": "ipython",
    "version": 3
   },
   "file_extension": ".py",
   "mimetype": "text/x-python",
   "name": "python",
   "nbconvert_exporter": "python",
   "pygments_lexer": "ipython3",
   "version": "3.9.8"
  }
 },
 "nbformat": 4,
 "nbformat_minor": 5
}
